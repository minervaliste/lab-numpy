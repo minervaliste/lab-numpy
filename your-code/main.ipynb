{
 "cells": [
  {
   "cell_type": "markdown",
   "metadata": {},
   "source": [
    "# Intrduction to NumPy\n",
    "\n",
    "\n",
    "#### 1. Import NumPy under the name np."
   ]
  },
  {
   "cell_type": "code",
   "execution_count": 1,
   "metadata": {},
   "outputs": [],
   "source": [
    "# your code here\n",
    "import numpy as np"
   ]
  },
  {
   "cell_type": "markdown",
   "metadata": {},
   "source": [
    "#### 2. Print your NumPy version."
   ]
  },
  {
   "cell_type": "code",
   "execution_count": 2,
   "metadata": {},
   "outputs": [
    {
     "name": "stdout",
     "output_type": "stream",
     "text": [
      "1.16.5\n"
     ]
    }
   ],
   "source": [
    "# your code here\n",
    "print(np.__version__)"
   ]
  },
  {
   "cell_type": "markdown",
   "metadata": {},
   "source": [
    "#### 3. Generate a 2x3x5 3-dimensional array with random values. Assign the array to variable *a*.\n",
    "**Challenge**: there are at least three easy ways that use numpy to generate random arrays. How many ways can you find?"
   ]
  },
  {
   "cell_type": "code",
   "execution_count": 3,
   "metadata": {
    "scrolled": false
   },
   "outputs": [
    {
     "name": "stdout",
     "output_type": "stream",
     "text": [
      "[[[0.8111347  0.3905896  0.6083719  0.66644869 0.38735095]\n",
      "  [0.56199144 0.29348732 0.48233559 0.15465044 0.94993312]\n",
      "  [0.31990588 0.8760387  0.94575793 0.51504009 0.41172087]]\n",
      "\n",
      " [[0.94884973 0.72481613 0.88745533 0.56017014 0.97719071]\n",
      "  [0.60703563 0.76362472 0.24632305 0.72819352 0.16488048]\n",
      "  [0.68289926 0.3359674  0.96978935 0.41253589 0.95588295]]]\n"
     ]
    }
   ],
   "source": [
    "# Method 1\n",
    "a = np.random.random((2, 3, 5))\n",
    "print(a)"
   ]
  },
  {
   "cell_type": "code",
   "execution_count": 4,
   "metadata": {
    "scrolled": false
   },
   "outputs": [
    {
     "name": "stdout",
     "output_type": "stream",
     "text": [
      "[[[0.98636362 0.71956875 0.5662952  0.87981156 0.37780909]\n",
      "  [0.19769465 0.13564674 0.62069145 0.49107819 0.66547214]\n",
      "  [0.10082114 0.40654668 0.91894762 0.53721323 0.99464866]]\n",
      "\n",
      " [[0.05200461 0.74637945 0.95947127 0.14750601 0.35012294]\n",
      "  [0.7208384  0.58103734 0.11358767 0.6854535  0.75949543]\n",
      "  [0.41572313 0.52095389 0.16576217 0.98642384 0.87676135]]]\n"
     ]
    }
   ],
   "source": [
    "# Method 2\n",
    "a2 = np.random.random_sample(size =(2,3,5)) \n",
    "print(a2)"
   ]
  },
  {
   "cell_type": "code",
   "execution_count": 5,
   "metadata": {
    "scrolled": true
   },
   "outputs": [
    {
     "name": "stdout",
     "output_type": "stream",
     "text": [
      "[[[ 1.10871097 -0.50157668  0.21447522 -0.09422369 -0.43431332]\n",
      "  [ 0.04902222  0.2619742   0.18492569  0.37346309  0.18067494]\n",
      "  [-0.40333393 -0.78149872 -0.6257809  -1.69038769  0.60813031]]\n",
      "\n",
      " [[-1.11339275 -0.76496644  0.48354479 -0.39816974  0.90591279]\n",
      "  [ 0.34101099  1.16200486  0.32188539 -0.41225781 -0.38055143]\n",
      "  [ 2.42538699  0.81388297  0.35472815 -0.07145399 -2.30715154]]]\n"
     ]
    }
   ],
   "source": [
    "# Method 3\n",
    "a3 = np.random.randn(2, 3, 5)\n",
    "print(a3)"
   ]
  },
  {
   "cell_type": "markdown",
   "metadata": {},
   "source": [
    "#### 4. Print *a*.\n"
   ]
  },
  {
   "cell_type": "code",
   "execution_count": 6,
   "metadata": {},
   "outputs": [
    {
     "name": "stdout",
     "output_type": "stream",
     "text": [
      "[[[0.8111347  0.3905896  0.6083719  0.66644869 0.38735095]\n",
      "  [0.56199144 0.29348732 0.48233559 0.15465044 0.94993312]\n",
      "  [0.31990588 0.8760387  0.94575793 0.51504009 0.41172087]]\n",
      "\n",
      " [[0.94884973 0.72481613 0.88745533 0.56017014 0.97719071]\n",
      "  [0.60703563 0.76362472 0.24632305 0.72819352 0.16488048]\n",
      "  [0.68289926 0.3359674  0.96978935 0.41253589 0.95588295]]]\n"
     ]
    }
   ],
   "source": [
    "# your code here\n",
    "print(a)"
   ]
  },
  {
   "cell_type": "markdown",
   "metadata": {},
   "source": [
    "#### 5. Create a 5x2x3 3-dimensional array with all values equaling 1. Assign the array to variable *b*."
   ]
  },
  {
   "cell_type": "code",
   "execution_count": 7,
   "metadata": {
    "scrolled": true
   },
   "outputs": [
    {
     "name": "stdout",
     "output_type": "stream",
     "text": [
      "[[[1. 1. 1.]\n",
      "  [1. 1. 1.]]\n",
      "\n",
      " [[1. 1. 1.]\n",
      "  [1. 1. 1.]]\n",
      "\n",
      " [[1. 1. 1.]\n",
      "  [1. 1. 1.]]\n",
      "\n",
      " [[1. 1. 1.]\n",
      "  [1. 1. 1.]]\n",
      "\n",
      " [[1. 1. 1.]\n",
      "  [1. 1. 1.]]]\n"
     ]
    }
   ],
   "source": [
    "# your code here\n",
    "b = np.ones((5, 2, 3))\n",
    "print(b)"
   ]
  },
  {
   "cell_type": "markdown",
   "metadata": {},
   "source": [
    "#### 6. Print *b*.\n"
   ]
  },
  {
   "cell_type": "code",
   "execution_count": 8,
   "metadata": {},
   "outputs": [
    {
     "name": "stdout",
     "output_type": "stream",
     "text": [
      "[[[1. 1. 1.]\n",
      "  [1. 1. 1.]]\n",
      "\n",
      " [[1. 1. 1.]\n",
      "  [1. 1. 1.]]\n",
      "\n",
      " [[1. 1. 1.]\n",
      "  [1. 1. 1.]]\n",
      "\n",
      " [[1. 1. 1.]\n",
      "  [1. 1. 1.]]\n",
      "\n",
      " [[1. 1. 1.]\n",
      "  [1. 1. 1.]]]\n"
     ]
    }
   ],
   "source": [
    "# your code here\n",
    "print(b)"
   ]
  },
  {
   "cell_type": "markdown",
   "metadata": {},
   "source": [
    "#### 7. Do *a* and *b* have the same size? How do you prove that in Python code?"
   ]
  },
  {
   "cell_type": "code",
   "execution_count": 9,
   "metadata": {},
   "outputs": [
    {
     "name": "stdout",
     "output_type": "stream",
     "text": [
      "True\n"
     ]
    }
   ],
   "source": [
    "# your code here\n",
    "\n",
    "print(a.size == b.size)\n"
   ]
  },
  {
   "cell_type": "markdown",
   "metadata": {},
   "source": [
    "#### 8. Are you able to add *a* and *b*? Why or why not?\n"
   ]
  },
  {
   "cell_type": "code",
   "execution_count": 10,
   "metadata": {},
   "outputs": [],
   "source": [
    "# your answer here\n",
    "\n",
    "## No, it is not possible to perform an add operation with two arrays of different shape. \n"
   ]
  },
  {
   "cell_type": "markdown",
   "metadata": {},
   "source": [
    "#### 9. Transpose *b* so that it has the same structure of *a* (i.e. become a 2x3x5 array). Assign the transposed array to variable *c*."
   ]
  },
  {
   "cell_type": "code",
   "execution_count": 11,
   "metadata": {
    "scrolled": false
   },
   "outputs": [
    {
     "name": "stdout",
     "output_type": "stream",
     "text": [
      "[[[1. 1. 1. 1. 1.]\n",
      "  [1. 1. 1. 1. 1.]\n",
      "  [1. 1. 1. 1. 1.]]\n",
      "\n",
      " [[1. 1. 1. 1. 1.]\n",
      "  [1. 1. 1. 1. 1.]\n",
      "  [1. 1. 1. 1. 1.]]]\n"
     ]
    }
   ],
   "source": [
    "# your code here\n",
    "c = np.transpose(b, (1, 2, 0))\n",
    "print(c)"
   ]
  },
  {
   "cell_type": "markdown",
   "metadata": {},
   "source": [
    "#### 10. Try to add *a* and *c*. Now it should work. Assign the sum to variable *d*. But why does it work now?"
   ]
  },
  {
   "cell_type": "code",
   "execution_count": 12,
   "metadata": {},
   "outputs": [
    {
     "name": "stdout",
     "output_type": "stream",
     "text": [
      "[[[1.8111347  1.3905896  1.6083719  1.66644869 1.38735095]\n",
      "  [1.56199144 1.29348732 1.48233559 1.15465044 1.94993312]\n",
      "  [1.31990588 1.8760387  1.94575793 1.51504009 1.41172087]]\n",
      "\n",
      " [[1.94884973 1.72481613 1.88745533 1.56017014 1.97719071]\n",
      "  [1.60703563 1.76362472 1.24632305 1.72819352 1.16488048]\n",
      "  [1.68289926 1.3359674  1.96978935 1.41253589 1.95588295]]]\n"
     ]
    }
   ],
   "source": [
    "# your code/answer here\n",
    "\n",
    "d = np.add(a, c)\n",
    "print(d)\n",
    "\n",
    "## Because now both arrays have the same shape"
   ]
  },
  {
   "cell_type": "markdown",
   "metadata": {},
   "source": [
    "#### 11. Print *a* and *d*. Notice the difference and relation of the two array in terms of the values? Explain."
   ]
  },
  {
   "cell_type": "code",
   "execution_count": 13,
   "metadata": {
    "scrolled": true
   },
   "outputs": [
    {
     "name": "stdout",
     "output_type": "stream",
     "text": [
      "[[[0.8111347  0.3905896  0.6083719  0.66644869 0.38735095]\n",
      "  [0.56199144 0.29348732 0.48233559 0.15465044 0.94993312]\n",
      "  [0.31990588 0.8760387  0.94575793 0.51504009 0.41172087]]\n",
      "\n",
      " [[0.94884973 0.72481613 0.88745533 0.56017014 0.97719071]\n",
      "  [0.60703563 0.76362472 0.24632305 0.72819352 0.16488048]\n",
      "  [0.68289926 0.3359674  0.96978935 0.41253589 0.95588295]]]\n",
      "\n",
      "[[[1.8111347  1.3905896  1.6083719  1.66644869 1.38735095]\n",
      "  [1.56199144 1.29348732 1.48233559 1.15465044 1.94993312]\n",
      "  [1.31990588 1.8760387  1.94575793 1.51504009 1.41172087]]\n",
      "\n",
      " [[1.94884973 1.72481613 1.88745533 1.56017014 1.97719071]\n",
      "  [1.60703563 1.76362472 1.24632305 1.72819352 1.16488048]\n",
      "  [1.68289926 1.3359674  1.96978935 1.41253589 1.95588295]]]\n"
     ]
    }
   ],
   "source": [
    "# your code/answer here\n",
    "print(a)\n",
    "print('')\n",
    "print(d)\n",
    "\n",
    "# As all values in array c are 1, all values in array d equal to the value in the same position in array 1  + 1.\n",
    "# It can be expressed as follows: d[x, y, z] == a[x, y, z] + 1\n",
    "\n"
   ]
  },
  {
   "cell_type": "markdown",
   "metadata": {},
   "source": [
    "#### 12. Multiply *a* and *c*. Assign the result to *e*."
   ]
  },
  {
   "cell_type": "code",
   "execution_count": 14,
   "metadata": {},
   "outputs": [
    {
     "name": "stdout",
     "output_type": "stream",
     "text": [
      "[[[0.8111347  0.3905896  0.6083719  0.66644869 0.38735095]\n",
      "  [0.56199144 0.29348732 0.48233559 0.15465044 0.94993312]\n",
      "  [0.31990588 0.8760387  0.94575793 0.51504009 0.41172087]]\n",
      "\n",
      " [[0.94884973 0.72481613 0.88745533 0.56017014 0.97719071]\n",
      "  [0.60703563 0.76362472 0.24632305 0.72819352 0.16488048]\n",
      "  [0.68289926 0.3359674  0.96978935 0.41253589 0.95588295]]]\n"
     ]
    }
   ],
   "source": [
    "# your code here\n",
    "\n",
    "e = np.multiply(a, c)\n",
    "print(e)"
   ]
  },
  {
   "cell_type": "markdown",
   "metadata": {},
   "source": [
    "#### 13. Does *e* equal to *a*? Why or why not?\n"
   ]
  },
  {
   "cell_type": "code",
   "execution_count": 15,
   "metadata": {},
   "outputs": [
    {
     "name": "stdout",
     "output_type": "stream",
     "text": [
      "[[[0.8111347  0.3905896  0.6083719  0.66644869 0.38735095]\n",
      "  [0.56199144 0.29348732 0.48233559 0.15465044 0.94993312]\n",
      "  [0.31990588 0.8760387  0.94575793 0.51504009 0.41172087]]\n",
      "\n",
      " [[0.94884973 0.72481613 0.88745533 0.56017014 0.97719071]\n",
      "  [0.60703563 0.76362472 0.24632305 0.72819352 0.16488048]\n",
      "  [0.68289926 0.3359674  0.96978935 0.41253589 0.95588295]]]\n",
      "\n",
      "[[[0.8111347  0.3905896  0.6083719  0.66644869 0.38735095]\n",
      "  [0.56199144 0.29348732 0.48233559 0.15465044 0.94993312]\n",
      "  [0.31990588 0.8760387  0.94575793 0.51504009 0.41172087]]\n",
      "\n",
      " [[0.94884973 0.72481613 0.88745533 0.56017014 0.97719071]\n",
      "  [0.60703563 0.76362472 0.24632305 0.72819352 0.16488048]\n",
      "  [0.68289926 0.3359674  0.96978935 0.41253589 0.95588295]]]\n"
     ]
    }
   ],
   "source": [
    "# your code/answer here\n",
    "print(a)\n",
    "print('')\n",
    "print(e)\n",
    "\n",
    "# Yes, both matrix are equal. As all values in array c are 1, all values in array e equal to the value in the same position \n",
    "# in array 1 * 1 (that is, the same value)\n",
    "# It can be expressed as follows: e[x, y, z] == a[x, y, z] * 1"
   ]
  },
  {
   "cell_type": "markdown",
   "metadata": {},
   "source": [
    "#### 14. Identify the max, min, and mean values in *d*. Assign those values to variables *d_max*, *d_min* and *d_mean*."
   ]
  },
  {
   "cell_type": "code",
   "execution_count": 16,
   "metadata": {},
   "outputs": [
    {
     "name": "stdout",
     "output_type": "stream",
     "text": [
      "1.9771907095885228\n",
      "1.1546504363865175\n",
      "1.6113457169233198\n"
     ]
    }
   ],
   "source": [
    "# your code here\n",
    "d_max = np.max(d)\n",
    "d_min = np.min(d)\n",
    "d_mean = np.mean(d)\n",
    "\n",
    "print(d_max)\n",
    "print(d_min)\n",
    "print(d_mean)"
   ]
  },
  {
   "cell_type": "markdown",
   "metadata": {},
   "source": [
    "#### 15. Now we want to label the values in *d*. First create an empty array *f* with the same shape (i.e. 2x3x5) as *d* using `np.empty`.\n"
   ]
  },
  {
   "cell_type": "code",
   "execution_count": 17,
   "metadata": {
    "scrolled": true
   },
   "outputs": [],
   "source": [
    "# your code here\n",
    "\n",
    "f = np.empty(d.shape)\n"
   ]
  },
  {
   "cell_type": "markdown",
   "metadata": {},
   "source": [
    "#### 16. Populate the values in *f*. \n",
    "\n",
    "For each value in *d*, if it's larger than *d_min* but smaller than *d_mean*, assign 25 to the corresponding value in *f*. If a value in *d* is larger than *d_mean* but smaller than *d_max*, assign 75 to the corresponding value in *f*. If a value equals to *d_mean*, assign 50 to the corresponding value in *f*. Assign 0 to the corresponding value(s) in *f* for *d_min* in *d*. Assign 100 to the corresponding value(s) in *f* for *d_max* in *d*. In the end, f should have only the following values: 0, 25, 50, 75, and 100.\n",
    "\n",
    "**Note**: you don't have to use Numpy in this question."
   ]
  },
  {
   "cell_type": "code",
   "execution_count": 18,
   "metadata": {},
   "outputs": [],
   "source": [
    "# your code here\n",
    "\n",
    "for x in range(d.shape[0]):\n",
    "    for y in range(d.shape[1]):\n",
    "        for z in range(d.shape[2]):\n",
    "            if d_min < d[x, y, z] < d_mean:\n",
    "                f[x, y, z] = 25\n",
    "            elif d_mean < d[x, y, z] < d_max:\n",
    "                f[x, y, z] = 75\n",
    "            elif d_mean == d[x, y, z]:\n",
    "                f[x, y, z] = 50\n",
    "            elif d_min == d[x, y, z]:\n",
    "                f[x, y, z] = 0\n",
    "            elif d_max == d[x, y, z]:\n",
    "                f[x, y, z] = 100\n",
    "        "
   ]
  },
  {
   "cell_type": "markdown",
   "metadata": {},
   "source": [
    "#### 17. Print *d* and *f*. Do you have your expected *f*?\n",
    "For instance, if your *d* is:\n",
    "```python\n",
    "[[[1.85836099, 1.67064465, 1.62576044, 1.40243961, 1.88454931],\n",
    "[1.75354326, 1.69403643, 1.36729252, 1.61415071, 1.12104981],\n",
    "[1.72201435, 1.1862918 , 1.87078449, 1.7726778 , 1.88180042]],\n",
    "[[1.44747908, 1.31673383, 1.02000951, 1.52218947, 1.97066381],\n",
    "[1.79129243, 1.74983003, 1.96028037, 1.85166831, 1.65450881],\n",
    "[1.18068344, 1.9587381 , 1.00656599, 1.93402165, 1.73514584]]]\n",
    "```\n",
    "Your *f* should be:\n",
    "```python\n",
    "[[[ 75.,  75.,  75.,  25.,  75.],\n",
    "[ 75.,  75.,  25.,  25.,  25.],\n",
    "[ 75.,  25.,  75.,  75.,  75.]],\n",
    "[[ 25.,  25.,  25.,  25., 100.],\n",
    "[ 75.,  75.,  75.,  75.,  75.],\n",
    "[ 25.,  75.,   0.,  75.,  75.]]]\n",
    "```"
   ]
  },
  {
   "cell_type": "code",
   "execution_count": 19,
   "metadata": {},
   "outputs": [
    {
     "name": "stdout",
     "output_type": "stream",
     "text": [
      "[[[1.8111347  1.3905896  1.6083719  1.66644869 1.38735095]\n",
      "  [1.56199144 1.29348732 1.48233559 1.15465044 1.94993312]\n",
      "  [1.31990588 1.8760387  1.94575793 1.51504009 1.41172087]]\n",
      "\n",
      " [[1.94884973 1.72481613 1.88745533 1.56017014 1.97719071]\n",
      "  [1.60703563 1.76362472 1.24632305 1.72819352 1.16488048]\n",
      "  [1.68289926 1.3359674  1.96978935 1.41253589 1.95588295]]]\n",
      "\n",
      "[[[ 75.  25.  25.  75.  25.]\n",
      "  [ 25.  25.  25.   0.  75.]\n",
      "  [ 25.  75.  75.  25.  25.]]\n",
      "\n",
      " [[ 75.  75.  75.  25. 100.]\n",
      "  [ 25.  75.  25.  75.  25.]\n",
      "  [ 75.  25.  75.  25.  75.]]]\n"
     ]
    }
   ],
   "source": [
    "# your code here\n",
    "print(d)\n",
    "print('')\n",
    "print(f)"
   ]
  },
  {
   "cell_type": "markdown",
   "metadata": {},
   "source": [
    "#### 18. Bonus question: instead of using numbers (i.e. 0, 25, 50, 75, and 100), use string values  (\"A\", \"B\", \"C\", \"D\", and \"E\") to label the array elements. For the example above, the expected result is:\n",
    "\n",
    "```python\n",
    "[[[ 'D',  'D',  'D',  'B',  'D'],\n",
    "[ 'D',  'D',  'B',  'B',  'B'],\n",
    "[ 'D',  'B',  'D',  'D',  'D']],\n",
    "[[ 'B',  'B',  'B',  'B',  'E'],\n",
    "[ 'D',  'D',  'D',  'D',  'D'],\n",
    "[ 'B',  'D',   'A',  'D', 'D']]]\n",
    "```\n",
    "**Note**: you don't have to use Numpy in this question."
   ]
  },
  {
   "cell_type": "code",
   "execution_count": 20,
   "metadata": {},
   "outputs": [
    {
     "name": "stdout",
     "output_type": "stream",
     "text": [
      "[[['D' 'B' 'B' 'D' 'B']\n",
      "  ['B' 'B' 'B' 'A' 'D']\n",
      "  ['B' 'D' 'D' 'B' 'B']]\n",
      "\n",
      " [['D' 'D' 'D' 'B' 'E']\n",
      "  ['B' 'D' 'B' 'D' 'B']\n",
      "  ['D' 'B' 'D' 'B' 'D']]]\n"
     ]
    }
   ],
   "source": [
    "# your code here\n",
    "\n",
    "new_f = f.astype(str)\n",
    "\n",
    "for x in range(f.shape[0]):\n",
    "    for y in range(f.shape[1]):\n",
    "        for z in range(f.shape[2]):\n",
    "            if f[x, y, z] == 0:\n",
    "                new_f[x, y, z] = 'A'\n",
    "            elif f[x, y, z] == 25:\n",
    "                new_f[x, y, z] = 'B'\n",
    "            elif f[x, y, z] == 50:\n",
    "                new_f[x, y, z] = 'C'\n",
    "            elif f[x, y, z] == 75:\n",
    "                new_f[x, y, z] = 'D'\n",
    "            elif f[x, y, z] == 100:\n",
    "                new_f[x, y, z] = 'E'\n",
    "\n",
    "print(new_f)"
   ]
  },
  {
   "cell_type": "code",
   "execution_count": null,
   "metadata": {},
   "outputs": [],
   "source": []
  }
 ],
 "metadata": {
  "kernelspec": {
   "display_name": "Python 3",
   "language": "python",
   "name": "python3"
  },
  "language_info": {
   "codemirror_mode": {
    "name": "ipython",
    "version": 3
   },
   "file_extension": ".py",
   "mimetype": "text/x-python",
   "name": "python",
   "nbconvert_exporter": "python",
   "pygments_lexer": "ipython3",
   "version": "3.7.4"
  }
 },
 "nbformat": 4,
 "nbformat_minor": 2
}
